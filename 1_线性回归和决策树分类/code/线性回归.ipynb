{
 "cells": [
  {
   "cell_type": "code",
   "execution_count": 4,
   "id": "40bc79ea",
   "metadata": {
    "ExecuteTime": {
     "end_time": "2023-12-11T15:36:01.485705Z",
     "start_time": "2023-12-11T15:36:01.378886Z"
    }
   },
   "outputs": [],
   "source": [
    "#线性回归\n",
    "import numpy as np\n",
    "#初始化\n",
    "def initializeParams(self, dims):\n",
    "    \"\"\"\n",
    "    :param dims: X的维度10\n",
    "    :return:\n",
    "     w-(10, 1)\n",
    "     b-(1,)\n",
    "     \"\"\"\n",
    "    w = np.zeros((dims, 1))\n",
    "    b = 0\n",
    "    return w, b\n"
   ]
  },
  {
   "cell_type": "code",
   "execution_count": 5,
   "id": "9f874dcd",
   "metadata": {
    "ExecuteTime": {
     "end_time": "2023-12-11T15:36:02.093221Z",
     "start_time": "2023-12-11T15:36:02.085642Z"
    }
   },
   "outputs": [],
   "source": [
    "#定义损失函数\n",
    "\n",
    "def linearLoss(self, X, y, w, b):\n",
    "    \"\"\"\n",
    "    :param X: (442, 10)\n",
    "    :param y: (10, 1)\n",
    "    :param w: (10, 1)\n",
    "    :param b: (1, )\n",
    "    :return:\n",
    "     y_hat-(442, 1)\n",
    "     loss-(442, 1)\n",
    "     dw-(10, 1)\n",
    "     db-(1, )\n",
    "     \"\"\"\n",
    "    num_train = X.shape[0]\n",
    "    num_feature = X.shape[1]\n",
    "\n",
    "    # 模型公式\n",
    "    y_hat = np.dot(X, w) + b\n",
    "    # 损失函数\n",
    "    loss = np.sum((y_hat - y) ** 2) / num_train\n",
    "    # 参数偏导\n",
    "    dw = np.dot(X.T, (y_hat -y )) / num_train\n",
    "    db = np.sum((y_hat - y)) / num_train\n",
    "    return y_hat, loss, dw, db\n"
   ]
  },
  {
   "cell_type": "code",
   "execution_count": 8,
   "id": "ace9e9c9",
   "metadata": {
    "ExecuteTime": {
     "end_time": "2023-12-11T15:38:14.138919Z",
     "start_time": "2023-12-11T15:38:14.118794Z"
    }
   },
   "outputs": [],
   "source": [
    "#梯度下降方法训练模型，并进行参数更新\n",
    "\n",
    "def linearTrain(self, X, y, learning_rate, epochs):\n",
    "    w, b = self.initializeParams(X.shape[1])\n",
    "    losses = []\n",
    "    for i in range(1, epochs+1):\n",
    "        y_hat, loss, dw, db = self.linearLoss(X, y, w, b)\n",
    "        losses.append(loss)\n",
    "        # 梯度下降更新参数\n",
    "        w += -learning_rate * dw\n",
    "        b += -learning_rate * db\n",
    "\n",
    "        # 打印迭代次数和损失\n",
    "        if i % 10000 == 0:\n",
    "            print(f'epoch:{i} loss: {loss}')\n",
    "\n",
    "            # 保存参数\n",
    "            params = {\n",
    "                'w': w,\n",
    "                'b': b\n",
    "            }\n",
    "\n",
    "            # 保存梯度\n",
    "            grads = {\n",
    "                'dw': dw,\n",
    "                'db': db\n",
    "            }\n",
    "    return loss, params, grads"
   ]
  },
  {
   "cell_type": "code",
   "execution_count": null,
   "id": "e83a625e",
   "metadata": {},
   "outputs": [],
   "source": []
  }
 ],
 "metadata": {
  "kernelspec": {
   "display_name": "Python 3 (ipykernel)",
   "language": "python",
   "name": "python3"
  },
  "language_info": {
   "codemirror_mode": {
    "name": "ipython",
    "version": 3
   },
   "file_extension": ".py",
   "mimetype": "text/x-python",
   "name": "python",
   "nbconvert_exporter": "python",
   "pygments_lexer": "ipython3",
   "version": "3.8.18"
  },
  "toc": {
   "base_numbering": 1,
   "nav_menu": {},
   "number_sections": true,
   "sideBar": true,
   "skip_h1_title": false,
   "title_cell": "Table of Contents",
   "title_sidebar": "Contents",
   "toc_cell": false,
   "toc_position": {},
   "toc_section_display": true,
   "toc_window_display": false
  }
 },
 "nbformat": 4,
 "nbformat_minor": 5
}
